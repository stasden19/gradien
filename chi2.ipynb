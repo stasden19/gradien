{
 "cells": [
  {
   "cell_type": "code",
   "execution_count": 43,
   "id": "a0350194-95c5-4dcc-a020-d366a05d4197",
   "metadata": {},
   "outputs": [],
   "source": [
    "import numpy as np\n",
    "import matplotlib.pyplot as plt\n",
    "from scipy import stats"
   ]
  },
  {
   "cell_type": "markdown",
   "id": "96a68bb9-ef66-49f2-8961-46af2d9b62af",
   "metadata": {},
   "source": [
    "Создаем наше распредение"
   ]
  },
  {
   "cell_type": "code",
   "execution_count": 73,
   "id": "a005633b-7a6d-4c45-9e75-d519cbfdc439",
   "metadata": {},
   "outputs": [],
   "source": [
    "array = np.random.normal(-100, 100, 1000)"
   ]
  },
  {
   "cell_type": "markdown",
   "id": "7f70ff22-8021-4e2f-aa51-7dd0330f4a96",
   "metadata": {},
   "source": [
    "Запишем необходимые константы относящиеся к нашему распределению"
   ]
  },
  {
   "cell_type": "code",
   "execution_count": 74,
   "id": "68d4b620-ce9d-4ca4-b18d-adfb8f316e4f",
   "metadata": {},
   "outputs": [
    {
     "name": "stdout",
     "output_type": "stream",
     "text": [
      "1000 215.902531013329 -371.54072111033236 99.65896941491043 -100.0623184665231\n"
     ]
    }
   ],
   "source": [
    "N = len(array)  # объем выборки\n",
    "maxx = np.max(array)  # максимальное значение\n",
    "minn = np.min(array)  # минимальное значение\n",
    "std = np.std(array)  # среднее квадратичное отклонение\n",
    "mean = np.mean(array)  # среднее по выборке\n",
    "print(N, maxx, minn, std, mean)"
   ]
  },
  {
   "cell_type": "markdown",
   "id": "a9302863-4c27-4414-959e-b9833117f5af",
   "metadata": {},
   "source": [
    "Частоты и гистограмма распределения"
   ]
  },
  {
   "cell_type": "code",
   "execution_count": 75,
   "id": "de2ae149-e473-4480-b552-1721eabc1b22",
   "metadata": {},
   "outputs": [
    {
     "name": "stdout",
     "output_type": "stream",
     "text": [
      "Кол-во: 10\n",
      "Ширина: 58.74432521236613\n",
      "От -371.54072111033236 до -312.79639589796625\n",
      "От -312.79639589796625 до -254.05207068560014\n",
      "От -254.05207068560014 до -195.30774547323404\n",
      "От -195.30774547323404 до -136.56342026086793\n",
      "От -136.56342026086793 до -77.81909504850182\n",
      "От -77.81909504850182 до -19.074769836135715\n",
      "От -19.074769836135715 до 39.66955537623039\n",
      "От 39.66955537623039 до 98.4138805885965\n",
      "От 98.4138805885965 до 157.1582058009626\n",
      "От 157.1582058009626 до 215.9025310133287\n"
     ]
    }
   ],
   "source": [
    "n = int(1 + np.log2(N))#колво интервалов\n",
    "l = (maxx - minn) / n #Ширина каждоого интервала\n",
    "print(f'Кол-во: {n}\\nШирина: {l}')\n",
    "intervals = np.arange(minn, maxx+l, l)\n",
    "for i in range(n):\n",
    "    print(f'От {intervals[i]} до {intervals[i+1]}')\n"
   ]
  },
  {
   "cell_type": "code",
   "execution_count": 76,
   "id": "2672a295-fa9f-4bd1-b18a-c057faa5b27e",
   "metadata": {},
   "outputs": [
    {
     "name": "stdout",
     "output_type": "stream",
     "text": [
      "[ 18  44 126 161 229 222 110  67  20   3]\n",
      "1000\n"
     ]
    },
    {
     "data": {
      "image/png": "[encoded data removed]",
      "text/plain": [
       "<Figure size 640x480 with 1 Axes>"
      ]
     },
     "metadata": {},
     "output_type": "display_data"
    }
   ],
   "source": [
    "#Расчитаем частоту для каждого интервала\n",
    "freq, _ = np.histogram(array, bins=n, density=False)\n",
    "print(freq)\n",
    "print(sum(freq))\n",
    "plt.hist(array, bins=np.arange(minn, maxx+l, l), edgecolor='black')\n",
    "plt.show()"
   ]
  },
  {
   "cell_type": "markdown",
   "id": "39ed518a-76b9-4279-8a50-235624b12a24",
   "metadata": {},
   "source": [
    "Выдвигаем гипотезу: Наши данные имею нормальное распределение"
   ]
  },
  {
   "cell_type": "code",
   "execution_count": 77,
   "id": "2d2dd411-0a65-47f0-a319-8317fc1d1dff",
   "metadata": {},
   "outputs": [
    {
     "name": "stdout",
     "output_type": "stream",
     "text": [
      "[0.016396011469419665, 0.04475692391479943, 0.10845555316399944, 0.18747701994338267, 0.23122199414515737, 0.20348221923792975, 0.12776763375571243, 0.057232625904841905, 0.018284393060191806, 0.004925625404565537]\n",
      "1.0\n",
      "[ 16.39601147  44.75692391 108.45555316 187.47701994 231.22199415\n",
      " 203.48221924 127.76763376  57.2326259   18.28439306   4.9256254 ]\n",
      "1000.0\n"
     ]
    }
   ],
   "source": [
    "#Для каждого интервала найдем вероятности попадания в аши интервалы:\n",
    "def prop(a, b, mu, std, i):\n",
    "    if i == 0:\n",
    "        p = stats.norm.cdf(b, loc=mu, scale=std)\n",
    "    elif i == n - 1:\n",
    "        p = 1 - stats.norm.cdf(a, loc=mu, scale=std)\n",
    "    else:\n",
    "        p = stats.norm.cdf(b, loc=mu, scale=std) - stats.norm.cdf(a, loc=mu, scale=std)\n",
    "    return p\n",
    "\n",
    "# Расчитаем \n",
    "pj = []\n",
    "for i in range(n):\n",
    "    pj.append(prop(intervals[i], intervals[i+1], mean, std, i))\n",
    "print(pj)\n",
    "print(sum(pj))\n",
    "mj = np.array(pj) * N\n",
    "print(mj) #вероятное количество элементов в интервалах\n",
    "print(sum(mj))"
   ]
  },
  {
   "cell_type": "markdown",
   "id": "d6b63824-dad7-4ea6-b49c-d936e99208ae",
   "metadata": {},
   "source": [
    "Вычисляем хи-квадрат"
   ]
  },
  {
   "cell_type": "code",
   "execution_count": 78,
   "id": "a34033c3-9155-4182-b421-ee5bea4f2948",
   "metadata": {},
   "outputs": [
    {
     "name": "stdout",
     "output_type": "stream",
     "text": [
      "13.505158415162981\n"
     ]
    }
   ],
   "source": [
    "hisqrt = (freq - mj) ** 2 / mj\n",
    "print(sum(hisqrt))"
   ]
  },
  {
   "cell_type": "markdown",
   "id": "f1b4c3e5-7294-48cf-9136-cc1fa7e32ce4",
   "metadata": {},
   "source": [
    "Вычислим стат критерий для нашей гипотезы"
   ]
  },
  {
   "cell_type": "code",
   "execution_count": 82,
   "id": "cf435f66-33c8-46a6-8e52-d7936124ce54",
   "metadata": {},
   "outputs": [
    {
     "name": "stdout",
     "output_type": "stream",
     "text": [
      "16.918977604620448\n",
      "0.05000000000000007\n"
     ]
    }
   ],
   "source": [
    "k = n - 1 # колво степеней свободы\n",
    "alpha = 0.05\n",
    "crit_chi2 = stats.chi2.ppf(1 - alpha, k)\n",
    "print(crit_chi2)\n",
    "p_value = stats.chi2.sf(crit_chi2, k)\n",
    "print(p_value)"
   ]
  },
  {
   "cell_type": "markdown",
   "id": "4d8b93dc-783a-4ee6-9c0b-aaa51dbedb49",
   "metadata": {},
   "source": [
    "Итог: с вероятностью 0.05 при отвержении нашей гипотезы мы ошибемся, что получается, что наши данные распределены нормально"
   ]
  }
 ],
 "metadata": {
  "kernelspec": {
   "display_name": "Python 3 (ipykernel)",
   "language": "python",
   "name": "python3"
  },
  "language_info": {
   "codemirror_mode": {
    "name": "ipython",
    "version": 3
   },
   "file_extension": ".py",
   "mimetype": "text/x-python",
   "name": "python",
   "nbconvert_exporter": "python",
   "pygments_lexer": "ipython3",
   "version": "3.12.3"
  }
 },
 "nbformat": 4,
 "nbformat_minor": 5
}
